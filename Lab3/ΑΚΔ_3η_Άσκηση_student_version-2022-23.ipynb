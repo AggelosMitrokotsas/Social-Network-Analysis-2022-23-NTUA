{
  "cells": [
    {
      "cell_type": "markdown",
      "id": "1f35580e",
      "metadata": {
        "id": "1f35580e"
      },
      "source": [
        "<html><font size=6><B>3η εργαστηριακή άσκηση</B><BR>\n",
        "    <BR><B>Link prediction - Πρόβλεψη συνδέσμων</B></BR>\n",
        "    </font></html>"
      ]
    },
    {
      "cell_type": "code",
      "source": [
        "#install node2vec with conda / pip\n",
        "!pip install node2vec\n",
        "!pip install --upgrade numpy"
      ],
      "metadata": {
        "colab": {
          "base_uri": "https://localhost:8080/"
        },
        "id": "cxK4yZJm3b70",
        "outputId": "585fc4dc-999a-4abf-a6ce-a384ee358028"
      },
      "id": "cxK4yZJm3b70",
      "execution_count": 1,
      "outputs": [
        {
          "output_type": "stream",
          "name": "stdout",
          "text": [
            "Looking in indexes: https://pypi.org/simple, https://us-python.pkg.dev/colab-wheels/public/simple/\n",
            "Requirement already satisfied: node2vec in /usr/local/lib/python3.8/dist-packages (0.4.6)\n",
            "Requirement already satisfied: gensim<5.0.0,>=4.1.2 in /usr/local/lib/python3.8/dist-packages (from node2vec) (4.3.0)\n",
            "Requirement already satisfied: networkx<3.0,>=2.5 in /usr/local/lib/python3.8/dist-packages (from node2vec) (2.6.3)\n",
            "Requirement already satisfied: tqdm<5.0.0,>=4.55.1 in /usr/local/lib/python3.8/dist-packages (from node2vec) (4.64.1)\n",
            "Requirement already satisfied: joblib<2.0.0,>=1.1.0 in /usr/local/lib/python3.8/dist-packages (from node2vec) (1.2.0)\n",
            "Requirement already satisfied: numpy<2.0.0,>=1.19.5 in /usr/local/lib/python3.8/dist-packages (from node2vec) (1.24.1)\n",
            "Requirement already satisfied: smart-open>=1.8.1 in /usr/local/lib/python3.8/dist-packages (from gensim<5.0.0,>=4.1.2->node2vec) (6.3.0)\n",
            "Requirement already satisfied: scipy>=1.7.0 in /usr/local/lib/python3.8/dist-packages (from gensim<5.0.0,>=4.1.2->node2vec) (1.10.0)\n",
            "Requirement already satisfied: FuzzyTM>=0.4.0 in /usr/local/lib/python3.8/dist-packages (from gensim<5.0.0,>=4.1.2->node2vec) (2.0.5)\n",
            "Requirement already satisfied: pyfume in /usr/local/lib/python3.8/dist-packages (from FuzzyTM>=0.4.0->gensim<5.0.0,>=4.1.2->node2vec) (0.2.25)\n",
            "Requirement already satisfied: pandas in /usr/local/lib/python3.8/dist-packages (from FuzzyTM>=0.4.0->gensim<5.0.0,>=4.1.2->node2vec) (1.3.5)\n",
            "Requirement already satisfied: python-dateutil>=2.7.3 in /usr/local/lib/python3.8/dist-packages (from pandas->FuzzyTM>=0.4.0->gensim<5.0.0,>=4.1.2->node2vec) (2.8.2)\n",
            "Requirement already satisfied: pytz>=2017.3 in /usr/local/lib/python3.8/dist-packages (from pandas->FuzzyTM>=0.4.0->gensim<5.0.0,>=4.1.2->node2vec) (2022.7)\n",
            "Requirement already satisfied: simpful in /usr/local/lib/python3.8/dist-packages (from pyfume->FuzzyTM>=0.4.0->gensim<5.0.0,>=4.1.2->node2vec) (2.9.0)\n",
            "Requirement already satisfied: fst-pso in /usr/local/lib/python3.8/dist-packages (from pyfume->FuzzyTM>=0.4.0->gensim<5.0.0,>=4.1.2->node2vec) (1.8.1)\n",
            "Requirement already satisfied: six>=1.5 in /usr/local/lib/python3.8/dist-packages (from python-dateutil>=2.7.3->pandas->FuzzyTM>=0.4.0->gensim<5.0.0,>=4.1.2->node2vec) (1.15.0)\n",
            "Requirement already satisfied: miniful in /usr/local/lib/python3.8/dist-packages (from fst-pso->pyfume->FuzzyTM>=0.4.0->gensim<5.0.0,>=4.1.2->node2vec) (0.0.6)\n",
            "Requirement already satisfied: requests in /usr/local/lib/python3.8/dist-packages (from simpful->pyfume->FuzzyTM>=0.4.0->gensim<5.0.0,>=4.1.2->node2vec) (2.25.1)\n",
            "Requirement already satisfied: idna<3,>=2.5 in /usr/local/lib/python3.8/dist-packages (from requests->simpful->pyfume->FuzzyTM>=0.4.0->gensim<5.0.0,>=4.1.2->node2vec) (2.10)\n",
            "Requirement already satisfied: urllib3<1.27,>=1.21.1 in /usr/local/lib/python3.8/dist-packages (from requests->simpful->pyfume->FuzzyTM>=0.4.0->gensim<5.0.0,>=4.1.2->node2vec) (1.24.3)\n",
            "Requirement already satisfied: chardet<5,>=3.0.2 in /usr/local/lib/python3.8/dist-packages (from requests->simpful->pyfume->FuzzyTM>=0.4.0->gensim<5.0.0,>=4.1.2->node2vec) (4.0.0)\n",
            "Requirement already satisfied: certifi>=2017.4.17 in /usr/local/lib/python3.8/dist-packages (from requests->simpful->pyfume->FuzzyTM>=0.4.0->gensim<5.0.0,>=4.1.2->node2vec) (2022.12.7)\n",
            "Looking in indexes: https://pypi.org/simple, https://us-python.pkg.dev/colab-wheels/public/simple/\n",
            "Requirement already satisfied: numpy in /usr/local/lib/python3.8/dist-packages (1.24.1)\n"
          ]
        }
      ]
    },
    {
      "cell_type": "code",
      "source": [
        "import networkx as nx\n",
        "import numpy as np\n",
        "import pandas as pd\n",
        "import matplotlib.pyplot as plt\n",
        "from node2vec import Node2Vec"
      ],
      "metadata": {
        "id": "-LZlZNpqWbP3"
      },
      "id": "-LZlZNpqWbP3",
      "execution_count": 2,
      "outputs": []
    },
    {
      "cell_type": "markdown",
      "id": "b30af479",
      "metadata": {
        "id": "b30af479"
      },
      "source": [
        "<html><font size=4><B>1. Κατασκευή γράφου και προεργασία για την πρόβλεψη συνδέσμων</B></font>\n",
        "    <li><B>1(i).</B> Χρησιμοποιήστε το dataset <a href=\"http://konect.cc/networks/dbpedia-similar/\"> Similarities (DBpedia)</a>, για να κατασκευάσετε τον μη κατευθυνόμενο (undirected) γράφο $G$ <a href=\"https://dl.acm.org/doi/10.1145/2487788.2488173\">[1]</a>,<a href=\"https://link.springer.com/chapter/10.1007/978-3-540-76298-0_52\">[2]</a>. Οι κόμβοι του γράφου αναπαριστούν σελίδες της Wikipedia και οι ακμές σχέση ομοιότητας μεταξύ τους. Στην σελίδα <a href=\"http://konect.cc/networks/dbpedia-similar/\"> KONECT (DBpedia)</a> μπορείτε να βρείτε πληροφορίες για τις ιδιότητες του γράφου.</a><BR>\n",
        "        <B><U>Υπόδειξη:</U></B> Μπορείτε να ελέγξετε προγραμματιστικά αν το dataset περιέχει διπλότυπα των ακμών με την ίδια ή αντίστροφη σειρά (π.χ. ακμές (a,b) και (b,a)), και να λάβετε υπ' όψιν σας αυτήν σας την παρατήρηση, όπου τυχόν χρειαστεί, στην ερώτηση 2.<BR></html>"
      ]
    },
    {
      "cell_type": "code",
      "source": [
        "#Στην ιστοσελιδα αναφέρεται πως δεν υπαρχουν διπλοτυπα των ακμων με ιδια ή αντιαστροφη σειρά (The network is undirected and does not contain multiple edges)\n",
        "#αλλα θα το ελέγξω καλου κακου\n",
        "def file_contains_duplicate_edges():\n",
        "    edges = set()\n",
        "    contains_duplicates = False\n",
        "    duplicates = set()\n",
        "    with open(\"out.dbpedia-similar\", 'r') as f:\n",
        "        for line in f:\n",
        "            if line.startswith(\"%\"):\n",
        "                continue\n",
        "\n",
        "            a, b = [int(i) for i in line.split()]\n",
        "            if (a, b) in edges or (b, a) in edges:\n",
        "                contains_duplicates = True\n",
        "                duplicates.add((a, b))\n",
        "            else:\n",
        "                edges.add((a, b))\n",
        "    return contains_duplicates, duplicates\n",
        "\n",
        "contains_duplicates, duplicates_set = file_contains_duplicate_edges()\n",
        "print(\"File contains duplicate edges: \", contains_duplicates)\n",
        "G = nx.read_edgelist('out.dbpedia-similar', create_using = nx.Graph(), nodetype = int, comments='%')\n",
        "G.remove_edges_from(nx.selfloop_edges(G))\n",
        "plt.figure(figsize=(10,10))\n",
        "nx.draw(G, node_size=50)\n",
        "plt.show()"
      ],
      "metadata": {
        "colab": {
          "base_uri": "https://localhost:8080/",
          "height": 769
        },
        "id": "PPFIhmgnqcWI",
        "outputId": "2aa84237-bbda-4bb5-f8bd-1d5ba74f884f"
      },
      "id": "PPFIhmgnqcWI",
      "execution_count": 3,
      "outputs": [
        {
          "output_type": "stream",
          "name": "stdout",
          "text": [
            "File contains duplicate edges:  False\n"
          ]
        },
        {
          "output_type": "display_data",
          "data": {
            "text/plain": [
              "<Figure size 720x720 with 1 Axes>"
            ],
            "image/png": "[encoded data removed]"
          },
          "metadata": {}
        }
      ]
    },
    {
      "cell_type": "markdown",
      "id": "4bd79bac",
      "metadata": {
        "id": "4bd79bac"
      },
      "source": [
        " <li><B>1(ii).</B> Εμφανίστε τον αριθμό των κόμβων, τον αριθμό των ακμών, τον μέσο βαθμό των κόμβων και τον αριθμό των συνεκτικών συνιστωσών (connected components) για τον γράφο $G$.</li><BR>"
      ]
    },
    {
      "cell_type": "code",
      "execution_count": 4,
      "id": "9277a4e2",
      "metadata": {
        "colab": {
          "base_uri": "https://localhost:8080/"
        },
        "id": "9277a4e2",
        "outputId": "d1e1b1c0-4ceb-4fac-925b-824ddb0ab568"
      },
      "outputs": [
        {
          "output_type": "stream",
          "name": "stdout",
          "text": [
            " Initial_node_count =  430 \n",
            " Initial_edges_count =  564 \n",
            " Initial_average_degree =  2.6232558139534885 \n",
            " Initial_connected_components =  95\n"
          ]
        }
      ],
      "source": [
        "initial_node_count = G.number_of_nodes()\n",
        "initial_edges_count = G.number_of_edges() #uncomment and complete\n",
        "initial_average_degree = np.mean(list(dict(G.degree).values()))\n",
        "initial_connected_components = nx.number_connected_components(G) #uncomment and complete\n",
        "\n",
        "print(\" Initial_node_count = \", G.number_of_nodes(),\n",
        "\"\\n Initial_edges_count = \", G.number_of_edges(),\n",
        "\"\\n Initial_average_degree = \", np.mean(list(dict(G.degree).values())),\n",
        "\"\\n Initial_connected_components = \", nx.number_connected_components(G))"
      ]
    },
    {
      "cell_type": "markdown",
      "id": "bf03f6b9",
      "metadata": {
        "id": "bf03f6b9"
      },
      "source": [
        "<li><B>1(iii). </B>Υπολογίστε το σύνολο των ασύνδετων ζευγών κόμβων (unconnected pairs) στον γράφο χρησιμοποιώντας τον πίνακα γειτνίασης (adjacency matrix). Δώστε επίσης τον αριθμό τους. Λάβετε υπ' όψιν σας ότι ο γράφος είναι μη κατευθυνόμενος και δεν χρειάζεται να διατρέξετε ολόκληρο τον πίνακα γειτνίασης.</li><BR>"
      ]
    },
    {
      "cell_type": "code",
      "source": [
        "%pip install 'scipy>=1.8'\n",
        "%pip install 'networkx<2.7'"
      ],
      "metadata": {
        "colab": {
          "base_uri": "https://localhost:8080/"
        },
        "id": "PcvENSKmh9_e",
        "outputId": "dc9dfd3c-3b83-413d-e3cc-1b98b42befc1"
      },
      "id": "PcvENSKmh9_e",
      "execution_count": 5,
      "outputs": [
        {
          "output_type": "stream",
          "name": "stdout",
          "text": [
            "Looking in indexes: https://pypi.org/simple, https://us-python.pkg.dev/colab-wheels/public/simple/\n",
            "Requirement already satisfied: scipy>=1.8 in /usr/local/lib/python3.8/dist-packages (1.10.0)\n",
            "Requirement already satisfied: numpy<1.27.0,>=1.19.5 in /usr/local/lib/python3.8/dist-packages (from scipy>=1.8) (1.24.1)\n",
            "Looking in indexes: https://pypi.org/simple, https://us-python.pkg.dev/colab-wheels/public/simple/\n",
            "Requirement already satisfied: networkx<2.7 in /usr/local/lib/python3.8/dist-packages (2.6.3)\n"
          ]
        }
      ]
    },
    {
      "cell_type": "code",
      "source": [
        "def unconnected_node_pairs(g):\n",
        "  unconnected_pairs = []\n",
        "  adj_matrix = nx.adjacency_matrix(g, nodelist=range(1, initial_node_count + 1))\n",
        "  for r in range(initial_node_count - 1):\n",
        "      for c in range(r + 1, initial_node_count):\n",
        "          if adj_matrix.A[r][c] == 0:\n",
        "              unconnected_pairs.append((r + 1, c + 1))\n",
        "  return set(tuple(unconnected_pairs))\n",
        "unconnected = unconnected_node_pairs(G)\n",
        "print('Number of unconnected pairs : ',len(unconnected))"
      ],
      "metadata": {
        "colab": {
          "base_uri": "https://localhost:8080/"
        },
        "id": "oj8SUU2AUiv8",
        "outputId": "8af6d76e-f36e-4897-e988-21d31cc2c641"
      },
      "id": "oj8SUU2AUiv8",
      "execution_count": 6,
      "outputs": [
        {
          "output_type": "stream",
          "name": "stdout",
          "text": [
            "Number of unconnected pairs :  91671\n"
          ]
        }
      ]
    },
    {
      "cell_type": "markdown",
      "id": "154c2a8d",
      "metadata": {
        "id": "154c2a8d"
      },
      "source": [
        "<li><B>1(iv).</B> Υπολογίστε το σύνολο των ακμών (removable edges) που μπορούν να αφαιρεθούν από τον γράφο χωρίς να υπάρχει κατάτμηση (splitting) του γράφου (δηλ. ο αριθμός των συνεκτικών συνιστωσών θα πρέπει να παραμένει αμετάβλητος). Υπόδειξη: Ελέγχετε επίσης ότι με αφαίρεση ακμής δεν μειώνεται ο αριθμός των κόμβων (εφόσον δεν υπάρχει ξεχωριστό αρχείο μόνο με κόμβους στο dataset). Δώστε επίσης τον αριθμό των ακμών (removable edges) που μπορούν να αφαιρεθούν υπό αυτές τις προϋποθέσεις.</li><BR>"
      ]
    },
    {
      "cell_type": "code",
      "execution_count": 7,
      "id": "b39c2241",
      "metadata": {
        "colab": {
          "base_uri": "https://localhost:8080/"
        },
        "id": "b39c2241",
        "outputId": "defd7f5a-4d2f-4b4b-df4c-036fc89a1651"
      },
      "outputs": [
        {
          "output_type": "stream",
          "name": "stdout",
          "text": [
            "The number of removable edges are:  229\n"
          ]
        }
      ],
      "source": [
        "#check splitting and number of nodes\n",
        "def removable_edges(g):\n",
        "    temp = g.copy()\n",
        "    removable = []\n",
        "    for u,v in g.edges:\n",
        "        temp.remove_edge(u,v)\n",
        "        if nx.number_connected_components(temp) == nx.number_connected_components(g):\n",
        "            removable.append((u, v))\n",
        "        else:\n",
        "            temp.add_edge(u,v)\n",
        "    return set(tuple(removable))\n",
        "#if ( == initial_connected_components) and ( == initial_node_count): #uncomment and complete (modifications allowed)\n",
        "#το κανω συναρτησιακα αρα αντι για το initial connected components βαζω την nx συναρτηση\n",
        "removable = removable_edges(G)\n",
        "print(\"The number of removable edges are: \", len(removable))"
      ]
    },
    {
      "cell_type": "markdown",
      "id": "eb03d745",
      "metadata": {
        "id": "eb03d745"
      },
      "source": [
        "<li><B>1(vα).</B> Κατασκευάστε dataframe που συνενώνει τις απαντήσεις των ερωτημάτων 1(iii) και 1(iv) (unconnected+removables). Χρησιμοποιήστε την μεταβλητή $link$ που θα παίρνει τιμή 1 ή 0 ανάλογα με την ύπαρξη συνδέσμου ή μη. To dataframe αυτό συγκεντρώνει τα θετικά και αρνητικά δείγματα για την πρόβλεψη των μελλοντικών συνδέσεων (link: target variable). <BR>\n",
        "    <li><B>1(vβ).</B> Κατασκευάστε τον γράφο $G'$ που προκύπτει από την αφαίρεση από τον γράφο $G$ των ακμών του ερωτήματος 1(iv). <BR>\n",
        "    <li><B>1(vγ).</B> Εμφανίστε τον αριθμό των κόμβων, τον αριθμό των ακμών, τον μέσο βαθμό των κόμβων και τον αριθμό των συνεκτικών συνιστωσών (connected components) για τον γράφο $G'$.</li><BR>"
      ]
    },
    {
      "cell_type": "code",
      "source": [
        "assert removable.isdisjoint(unconnected), \"Removable edges and Unconnected pairs should be disjoint but are not.\""
      ],
      "metadata": {
        "id": "qeAQz8iV7FBJ"
      },
      "id": "qeAQz8iV7FBJ",
      "execution_count": 8,
      "outputs": []
    },
    {
      "cell_type": "code",
      "execution_count": 9,
      "id": "cb033fc0",
      "metadata": {
        "colab": {
          "base_uri": "https://localhost:8080/",
          "height": 424
        },
        "id": "cb033fc0",
        "outputId": "9cbec666-a94b-498d-e8dc-553ecefaf716"
      },
      "outputs": [
        {
          "output_type": "execute_result",
          "data": {
            "text/plain": [
              "            edges  link\n",
              "0          (1, 6)     0\n",
              "1          (1, 7)     0\n",
              "2          (1, 8)     0\n",
              "3          (1, 9)     0\n",
              "4         (1, 10)     0\n",
              "...           ...   ...\n",
              "91895  (401, 403)     1\n",
              "91896  (401, 404)     1\n",
              "91897  (402, 403)     1\n",
              "91898  (402, 404)     1\n",
              "91899  (403, 404)     1\n",
              "\n",
              "[91900 rows x 2 columns]"
            ],
            "text/html": [
              "\n",
              "  <div id=\"df-8ca0c168-c7f1-4d01-bc63-310cfc9a935f\">\n",
              "    <div class=\"colab-df-container\">\n",
              "      <div>\n",
              "<style scoped>\n",
              "    .dataframe tbody tr th:only-of-type {\n",
              "        vertical-align: middle;\n",
              "    }\n",
              "\n",
              "    .dataframe tbody tr th {\n",
              "        vertical-align: top;\n",
              "    }\n",
              "\n",
              "    .dataframe thead th {\n",
              "        text-align: right;\n",
              "    }\n",
              "</style>\n",
              "<table border=\"1\" class=\"dataframe\">\n",
              "  <thead>\n",
              "    <tr style=\"text-align: right;\">\n",
              "      <th></th>\n",
              "      <th>edges</th>\n",
              "      <th>link</th>\n",
              "    </tr>\n",
              "  </thead>\n",
              "  <tbody>\n",
              "    <tr>\n",
              "      <th>0</th>\n",
              "      <td>(1, 6)</td>\n",
              "      <td>0</td>\n",
              "    </tr>\n",
              "    <tr>\n",
              "      <th>1</th>\n",
              "      <td>(1, 7)</td>\n",
              "      <td>0</td>\n",
              "    </tr>\n",
              "    <tr>\n",
              "      <th>2</th>\n",
              "      <td>(1, 8)</td>\n",
              "      <td>0</td>\n",
              "    </tr>\n",
              "    <tr>\n",
              "      <th>3</th>\n",
              "      <td>(1, 9)</td>\n",
              "      <td>0</td>\n",
              "    </tr>\n",
              "    <tr>\n",
              "      <th>4</th>\n",
              "      <td>(1, 10)</td>\n",
              "      <td>0</td>\n",
              "    </tr>\n",
              "    <tr>\n",
              "      <th>...</th>\n",
              "      <td>...</td>\n",
              "      <td>...</td>\n",
              "    </tr>\n",
              "    <tr>\n",
              "      <th>91895</th>\n",
              "      <td>(401, 403)</td>\n",
              "      <td>1</td>\n",
              "    </tr>\n",
              "    <tr>\n",
              "      <th>91896</th>\n",
              "      <td>(401, 404)</td>\n",
              "      <td>1</td>\n",
              "    </tr>\n",
              "    <tr>\n",
              "      <th>91897</th>\n",
              "      <td>(402, 403)</td>\n",
              "      <td>1</td>\n",
              "    </tr>\n",
              "    <tr>\n",
              "      <th>91898</th>\n",
              "      <td>(402, 404)</td>\n",
              "      <td>1</td>\n",
              "    </tr>\n",
              "    <tr>\n",
              "      <th>91899</th>\n",
              "      <td>(403, 404)</td>\n",
              "      <td>1</td>\n",
              "    </tr>\n",
              "  </tbody>\n",
              "</table>\n",
              "<p>91900 rows × 2 columns</p>\n",
              "</div>\n",
              "      <button class=\"colab-df-convert\" onclick=\"convertToInteractive('df-8ca0c168-c7f1-4d01-bc63-310cfc9a935f')\"\n",
              "              title=\"Convert this dataframe to an interactive table.\"\n",
              "              style=\"display:none;\">\n",
              "        \n",
              "  <svg xmlns=\"http://www.w3.org/2000/svg\" height=\"24px\"viewBox=\"0 0 24 24\"\n",
              "       width=\"24px\">\n",
              "    <path d=\"M0 0h24v24H0V0z\" fill=\"none\"/>\n",
              "    <path d=\"M18.56 5.44l.94 2.06.94-2.06 2.06-.94-2.06-.94-.94-2.06-.94 2.06-2.06.94zm-11 1L8.5 8.5l.94-2.06 2.06-.94-2.06-.94L8.5 2.5l-.94 2.06-2.06.94zm10 10l.94 2.06.94-2.06 2.06-.94-2.06-.94-.94-2.06-.94 2.06-2.06.94z\"/><path d=\"M17.41 7.96l-1.37-1.37c-.4-.4-.92-.59-1.43-.59-.52 0-1.04.2-1.43.59L10.3 9.45l-7.72 7.72c-.78.78-.78 2.05 0 2.83L4 21.41c.39.39.9.59 1.41.59.51 0 1.02-.2 1.41-.59l7.78-7.78 2.81-2.81c.8-.78.8-2.07 0-2.86zM5.41 20L4 18.59l7.72-7.72 1.47 1.35L5.41 20z\"/>\n",
              "  </svg>\n",
              "      </button>\n",
              "      \n",
              "  <style>\n",
              "    .colab-df-container {\n",
              "      display:flex;\n",
              "      flex-wrap:wrap;\n",
              "      gap: 12px;\n",
              "    }\n",
              "\n",
              "    .colab-df-convert {\n",
              "      background-color: #E8F0FE;\n",
              "      border: none;\n",
              "      border-radius: 50%;\n",
              "      cursor: pointer;\n",
              "      display: none;\n",
              "      fill: #1967D2;\n",
              "      height: 32px;\n",
              "      padding: 0 0 0 0;\n",
              "      width: 32px;\n",
              "    }\n",
              "\n",
              "    .colab-df-convert:hover {\n",
              "      background-color: #E2EBFA;\n",
              "      box-shadow: 0px 1px 2px rgba(60, 64, 67, 0.3), 0px 1px 3px 1px rgba(60, 64, 67, 0.15);\n",
              "      fill: #174EA6;\n",
              "    }\n",
              "\n",
              "    [theme=dark] .colab-df-convert {\n",
              "      background-color: #3B4455;\n",
              "      fill: #D2E3FC;\n",
              "    }\n",
              "\n",
              "    [theme=dark] .colab-df-convert:hover {\n",
              "      background-color: #434B5C;\n",
              "      box-shadow: 0px 1px 3px 1px rgba(0, 0, 0, 0.15);\n",
              "      filter: drop-shadow(0px 1px 2px rgba(0, 0, 0, 0.3));\n",
              "      fill: #FFFFFF;\n",
              "    }\n",
              "  </style>\n",
              "\n",
              "      <script>\n",
              "        const buttonEl =\n",
              "          document.querySelector('#df-8ca0c168-c7f1-4d01-bc63-310cfc9a935f button.colab-df-convert');\n",
              "        buttonEl.style.display =\n",
              "          google.colab.kernel.accessAllowed ? 'block' : 'none';\n",
              "\n",
              "        async function convertToInteractive(key) {\n",
              "          const element = document.querySelector('#df-8ca0c168-c7f1-4d01-bc63-310cfc9a935f');\n",
              "          const dataTable =\n",
              "            await google.colab.kernel.invokeFunction('convertToInteractive',\n",
              "                                                     [key], {});\n",
              "          if (!dataTable) return;\n",
              "\n",
              "          const docLinkHtml = 'Like what you see? Visit the ' +\n",
              "            '<a target=\"_blank\" href=https://colab.research.google.com/notebooks/data_table.ipynb>data table notebook</a>'\n",
              "            + ' to learn more about interactive tables.';\n",
              "          element.innerHTML = '';\n",
              "          dataTable['output_type'] = 'display_data';\n",
              "          await google.colab.output.renderOutput(dataTable, element);\n",
              "          const docLink = document.createElement('div');\n",
              "          docLink.innerHTML = docLinkHtml;\n",
              "          element.appendChild(docLink);\n",
              "        }\n",
              "      </script>\n",
              "    </div>\n",
              "  </div>\n",
              "  "
            ]
          },
          "metadata": {},
          "execution_count": 9
        }
      ],
      "source": [
        "#dataframe of removable edges (they will function as positive samples)\n",
        "removable_edges_df = pd.DataFrame(data={\"edges\": sorted(removable), \"link\": [1] * len(removable)})  #uncomment and complete\n",
        "\n",
        "#dataframe of unconnected node pairs (they will function as negative samples)\n",
        "unconnected_pairs_df = pd.DataFrame(data={\"edges\": sorted(unconnected), \"link\": [0] * len(unconnected)})# uncomment and complete\n",
        "\n",
        "#merge in one dataframe\n",
        "unconnected_removable_edges = unconnected_pairs_df.append(removable_edges_df,ignore_index=True)\n",
        "unconnected_removable_edges\n",
        "#build graph G'=G_reduced\n"
      ]
    },
    {
      "cell_type": "code",
      "source": [
        "#1(vβ) build graph G'=G_reduced\n",
        "G_reduced = G.copy()\n",
        "G_reduced.remove_edges_from(removable)\n",
        "\n",
        "#1(vγ)\n",
        "new_node_count = G_reduced.number_of_nodes()\n",
        "new_edges_count = G_reduced.number_of_edges() #uncomment and complete\n",
        "new_average_degree = np.mean(list(dict(G_reduced.degree).values()))\n",
        "new_connected_components = nx.number_connected_components(G_reduced) #uncomment and complete\n",
        "\n",
        "print(\" New_node_count = \", G_reduced.number_of_nodes(),\n",
        "\"\\n New_edges_count = \", G_reduced.number_of_edges(),\n",
        "\"\\n New_average_degree = \", np.mean(list(dict(G_reduced.degree).values())),\n",
        "\"\\n New_connected_components = \", nx.number_connected_components(G))"
      ],
      "metadata": {
        "colab": {
          "base_uri": "https://localhost:8080/"
        },
        "id": "eoWsAqwUuqzU",
        "outputId": "4034e162-9fac-4470-d805-106c12917bcf"
      },
      "id": "eoWsAqwUuqzU",
      "execution_count": 10,
      "outputs": [
        {
          "output_type": "stream",
          "name": "stdout",
          "text": [
            " New_node_count =  430 \n",
            " New_edges_count =  335 \n",
            " New_average_degree =  1.558139534883721 \n",
            " New_connected_components =  95\n"
          ]
        }
      ]
    },
    {
      "cell_type": "markdown",
      "id": "184eae57",
      "metadata": {
        "id": "184eae57"
      },
      "source": [
        "<html><font size=4><B>2. Εισαγωγή σε similarity-based μετρικές για Link prediction</B></font><BR><BR>\n",
        "     <li> Η μετρική <B>Jaccard Coefficient (JC)</B> των κόμβων ${u}$ και ${v}$ ορίζεται ως $\\frac{|\\Gamma(u) \\cap \\Gamma(v)|}{|\\Gamma(u) \\cup \\Gamma(v)|}$, όπου ${\\Gamma(u)}$ είναι το σύνολο των γειτονικών κόμβων του κόμβου ${u}$.  <B></B>\n",
        "        <li> Η μετρική <B>Preferential Αttachment (PA)</B> των κόμβων $u$ και $v$ ορίζεται ως $|\\Gamma(u)| |\\Gamma(v)|$, όπου $\\Gamma(u)$ είναι το σύνολο των γειτονικών κόμβων του $u$.</li>\n",
        "        <li> Η μετρική <B>Resource Allocation (RA)</B> των κόμβων $u$ και $v$ ορίζεται ως $\\sum_{w \\in \\Gamma(u) \\cap \\Gamma(v)} \\frac{1}{|\\Gamma(w)|}$, όπου $\\Gamma(u)$ είναι το σύνολο των γειτονικών κόμβων του $u$.</li><BR><BR>\n",
        "    <li><B>2(i).</B> Για τον γράφο $G'$, που κατασκευάσατε στο ερώτημα 1(vβ), υπολογίστε την μετρική <B>Jaccard Coefficient (JC)</B>.  <u><a href=\"https://networkx.org/documentation/stable/reference/algorithms/link_prediction.html?highlight=link%20prediction\">Χρησιμοποιήστε την υλοποιημένη συνάρτηση του λογισμικού NetworkX.<a></u> <BR><BR>\n",
        "    <li><B>2(ii). </B>Δώστε τις $k$ ακμές με την υψηλότερη τιμή μετρικής $JC$, όπου $k$ ο $Α.Μ.$ σας $mod$ $10$. Για $Α.Μ.$ λήγοντα σε $0$ δώστε τις $10$ ακμές με την υψηλότερη τιμή μετρικής.\n",
        "        (Για την σύγκριση μεταξύ διαφορετικών μετρικών προτιμάται η εύρεση των $k$ επικρατέστερων συνδέσμων, αφού οι μετρικές επιστρέφουν διαφορετικό εύρος τιμών.)</li><BR>\n",
        "    <li><B>2(iii). </B>Προσδιορίστε για την μέτρηση της απόδοσης της μετρικής $JC$ τα μεγέθη $Precision$, $Recall$ και $Accuracy$ και αναπαραστήστε τα γραφικά για τιμές κατωφλίου: $0.1$, $0.15$, $0.25$, $0.5$, $1.0$.  <BR><BR>\n",
        "    $Precision=\\frac{TP}{TP+FP}$, όπου $TP$: αληθώς θετικά αποτελέσματα, $FP$: ψευδώς θετικά αποτελέσματα <BR>\n",
        "    $Recall=\\frac{TP}{TP+FN}$, όπου $TP$: αληθώς θετικά αποτελέσματα, $FN$: ψευδώς αρνητικά αποτελέσματα</li> \n",
        "    $Accuracy=\\frac{TP+TN}{TP+FN+TN+FP}$, όπου $TP$: αληθώς θετικά αποτελέσματα, $TN$: αληθώς αρνητικά αποτελέσματα, $FN$: ψευδώς αρνητικά αποτελέσματα, $FP$: ψευδώς θετικά αποτελέσματα</li><BR><BR>\n",
        "        <B><U>Υπόδειξη:</U></B>\n",
        "        Θετικό θεωρήστε ένα αποτέλεσμα, αν η μετρική $JC$ υπερβαίνει μια τιμή κατωφλίου (>=). Αρνητικό θεωρήστε το στην αντίθετη περίπτωση.\n",
        "        <li>Αληθώς θετικά είναι τα αποτελέσματα που βγήκαν θετικά (η τιμή της $JC$ υπερβαίνει την τιμή κατωφλίου) και πράγματι θα υπάρξουν οι συνδέσεις που περιγράφουν (ερ. 1(iv)).</li>\n",
        "        <li>Αληθώς αρνητικά είναι τα αποτελέσματα που βγήκαν αρνητικά και πράγματι δεν θα υπάρξουν οι συνδέσεις που περιγράφουν (ερ. 1(iii)).</li>\n",
        "        <li>Ψευδώς θετικά είναι τα αποτελέσματα που βγήκαν θετικά, ενώ δεν θα υπάρξουν οι συνδέσεις που περιγράφουν.</li>\n",
        "        <li>Ψευδώς αρνητικά είναι τα αποτελέσματα που βγήκαν αρνητικά, ενώ θα υπάρξουν οι συνδέσεις που περιγράφουν.</li>\n",
        "        <li>Το άθροισμα $TN+FP$ πρέπει κάθε φορά να σας δίνει όλες τις ασύνδετες ακμές του γράφου $G$.</li>   \n",
        "<li>Από το ερώτημα 1(iii) οι ακμές που υπολογίσατε είναι αυτές για τις οποίες δεν θα υπάρξουν συνδέσεις.</li> <li>Από το ερώτημα 1(iv) οι ακμές που υπολογίσατε είναι αυτές για τις οποίες θα υπάρξουν συνδέσεις.</li><BR></html>"
      ]
    },
    {
      "cell_type": "code",
      "execution_count": 11,
      "id": "d8b0d5fd",
      "metadata": {
        "colab": {
          "base_uri": "https://localhost:8080/",
          "height": 385
        },
        "id": "d8b0d5fd",
        "outputId": "74390788-763c-4472-ef86-ab261bad8cc1"
      },
      "outputs": [
        {
          "output_type": "stream",
          "name": "stdout",
          "text": [
            "The 7 first edges with the highest Jaccard Coefficient are: \n",
            "(4, 46, 1.0)\n",
            "(4, 47, 1.0)\n",
            "(4, 49, 1.0)\n",
            "(23, 34, 1.0)\n",
            "(27, 33, 1.0)\n",
            "(46, 47, 1.0)\n",
            "(46, 49, 1.0)\n",
            "\n",
            "\n"
          ]
        },
        {
          "output_type": "execute_result",
          "data": {
            "text/plain": [
              "     recall  precission  accuracy  threshold\n",
              "0  0.707424    0.320792  0.995539       0.10\n",
              "1  0.689956    0.324435  0.995647       0.15\n",
              "2  0.676856    0.345982  0.996007       0.25\n",
              "3  0.602620    0.416918  0.996910       0.50\n",
              "4  0.550218    0.510121  0.997563       1.00"
            ],
            "text/html": [
              "\n",
              "  <div id=\"df-3ac188b3-ad6d-479f-96be-e6eceaf09176\">\n",
              "    <div class=\"colab-df-container\">\n",
              "      <div>\n",
              "<style scoped>\n",
              "    .dataframe tbody tr th:only-of-type {\n",
              "        vertical-align: middle;\n",
              "    }\n",
              "\n",
              "    .dataframe tbody tr th {\n",
              "        vertical-align: top;\n",
              "    }\n",
              "\n",
              "    .dataframe thead th {\n",
              "        text-align: right;\n",
              "    }\n",
              "</style>\n",
              "<table border=\"1\" class=\"dataframe\">\n",
              "  <thead>\n",
              "    <tr style=\"text-align: right;\">\n",
              "      <th></th>\n",
              "      <th>recall</th>\n",
              "      <th>precission</th>\n",
              "      <th>accuracy</th>\n",
              "      <th>threshold</th>\n",
              "    </tr>\n",
              "  </thead>\n",
              "  <tbody>\n",
              "    <tr>\n",
              "      <th>0</th>\n",
              "      <td>0.707424</td>\n",
              "      <td>0.320792</td>\n",
              "      <td>0.995539</td>\n",
              "      <td>0.10</td>\n",
              "    </tr>\n",
              "    <tr>\n",
              "      <th>1</th>\n",
              "      <td>0.689956</td>\n",
              "      <td>0.324435</td>\n",
              "      <td>0.995647</td>\n",
              "      <td>0.15</td>\n",
              "    </tr>\n",
              "    <tr>\n",
              "      <th>2</th>\n",
              "      <td>0.676856</td>\n",
              "      <td>0.345982</td>\n",
              "      <td>0.996007</td>\n",
              "      <td>0.25</td>\n",
              "    </tr>\n",
              "    <tr>\n",
              "      <th>3</th>\n",
              "      <td>0.602620</td>\n",
              "      <td>0.416918</td>\n",
              "      <td>0.996910</td>\n",
              "      <td>0.50</td>\n",
              "    </tr>\n",
              "    <tr>\n",
              "      <th>4</th>\n",
              "      <td>0.550218</td>\n",
              "      <td>0.510121</td>\n",
              "      <td>0.997563</td>\n",
              "      <td>1.00</td>\n",
              "    </tr>\n",
              "  </tbody>\n",
              "</table>\n",
              "</div>\n",
              "      <button class=\"colab-df-convert\" onclick=\"convertToInteractive('df-3ac188b3-ad6d-479f-96be-e6eceaf09176')\"\n",
              "              title=\"Convert this dataframe to an interactive table.\"\n",
              "              style=\"display:none;\">\n",
              "        \n",
              "  <svg xmlns=\"http://www.w3.org/2000/svg\" height=\"24px\"viewBox=\"0 0 24 24\"\n",
              "       width=\"24px\">\n",
              "    <path d=\"M0 0h24v24H0V0z\" fill=\"none\"/>\n",
              "    <path d=\"M18.56 5.44l.94 2.06.94-2.06 2.06-.94-2.06-.94-.94-2.06-.94 2.06-2.06.94zm-11 1L8.5 8.5l.94-2.06 2.06-.94-2.06-.94L8.5 2.5l-.94 2.06-2.06.94zm10 10l.94 2.06.94-2.06 2.06-.94-2.06-.94-.94-2.06-.94 2.06-2.06.94z\"/><path d=\"M17.41 7.96l-1.37-1.37c-.4-.4-.92-.59-1.43-.59-.52 0-1.04.2-1.43.59L10.3 9.45l-7.72 7.72c-.78.78-.78 2.05 0 2.83L4 21.41c.39.39.9.59 1.41.59.51 0 1.02-.2 1.41-.59l7.78-7.78 2.81-2.81c.8-.78.8-2.07 0-2.86zM5.41 20L4 18.59l7.72-7.72 1.47 1.35L5.41 20z\"/>\n",
              "  </svg>\n",
              "      </button>\n",
              "      \n",
              "  <style>\n",
              "    .colab-df-container {\n",
              "      display:flex;\n",
              "      flex-wrap:wrap;\n",
              "      gap: 12px;\n",
              "    }\n",
              "\n",
              "    .colab-df-convert {\n",
              "      background-color: #E8F0FE;\n",
              "      border: none;\n",
              "      border-radius: 50%;\n",
              "      cursor: pointer;\n",
              "      display: none;\n",
              "      fill: #1967D2;\n",
              "      height: 32px;\n",
              "      padding: 0 0 0 0;\n",
              "      width: 32px;\n",
              "    }\n",
              "\n",
              "    .colab-df-convert:hover {\n",
              "      background-color: #E2EBFA;\n",
              "      box-shadow: 0px 1px 2px rgba(60, 64, 67, 0.3), 0px 1px 3px 1px rgba(60, 64, 67, 0.15);\n",
              "      fill: #174EA6;\n",
              "    }\n",
              "\n",
              "    [theme=dark] .colab-df-convert {\n",
              "      background-color: #3B4455;\n",
              "      fill: #D2E3FC;\n",
              "    }\n",
              "\n",
              "    [theme=dark] .colab-df-convert:hover {\n",
              "      background-color: #434B5C;\n",
              "      box-shadow: 0px 1px 3px 1px rgba(0, 0, 0, 0.15);\n",
              "      filter: drop-shadow(0px 1px 2px rgba(0, 0, 0, 0.3));\n",
              "      fill: #FFFFFF;\n",
              "    }\n",
              "  </style>\n",
              "\n",
              "      <script>\n",
              "        const buttonEl =\n",
              "          document.querySelector('#df-3ac188b3-ad6d-479f-96be-e6eceaf09176 button.colab-df-convert');\n",
              "        buttonEl.style.display =\n",
              "          google.colab.kernel.accessAllowed ? 'block' : 'none';\n",
              "\n",
              "        async function convertToInteractive(key) {\n",
              "          const element = document.querySelector('#df-3ac188b3-ad6d-479f-96be-e6eceaf09176');\n",
              "          const dataTable =\n",
              "            await google.colab.kernel.invokeFunction('convertToInteractive',\n",
              "                                                     [key], {});\n",
              "          if (!dataTable) return;\n",
              "\n",
              "          const docLinkHtml = 'Like what you see? Visit the ' +\n",
              "            '<a target=\"_blank\" href=https://colab.research.google.com/notebooks/data_table.ipynb>data table notebook</a>'\n",
              "            + ' to learn more about interactive tables.';\n",
              "          element.innerHTML = '';\n",
              "          dataTable['output_type'] = 'display_data';\n",
              "          await google.colab.output.renderOutput(dataTable, element);\n",
              "          const docLink = document.createElement('div');\n",
              "          docLink.innerHTML = docLinkHtml;\n",
              "          element.appendChild(docLink);\n",
              "        }\n",
              "      </script>\n",
              "    </div>\n",
              "  </div>\n",
              "  "
            ]
          },
          "metadata": {},
          "execution_count": 11
        }
      ],
      "source": [
        "import seaborn as sns\n",
        "k = 7 #k = Α.Μ. mod 10 \n",
        "#2(i).\n",
        "JC_list = list(nx.jaccard_coefficient(G_reduced))\n",
        "#print(JC_list)\n",
        "\n",
        "#2(ii).\n",
        "best_JC = sorted(JC_list,key=lambda x: x[2], reverse = True)\n",
        "print(\"The 7 first edges with the highest Jaccard Coefficient are: \")\n",
        "for i in range(0,k):\n",
        "  print(best_JC[i])\n",
        "\n",
        "print('\\n')\n",
        "\n",
        "def JCfunction(threshold_jc):   #uncomment and complete\n",
        "  #2(iii).\n",
        "  #print('For threshold', threshold_jc, ':\\n')\n",
        "  pos = []\n",
        "  neg = []\n",
        "  true_positive = 0\n",
        "  true_negative = 0\n",
        "  false_pos = 0\n",
        "  false_neg = 0\n",
        "  for i in JC_list:\n",
        "    #Οταν εβαζα τα i[0] και i[1] μονο, μου εβγαζε 2 περισσοτερα true negative + false positive απ'ότι θα πρεπε\n",
        "    if i[2] >= threshold_jc:\n",
        "      pos.append((i[0],i[1]))\n",
        "      if (i[0], i[1]) in removable or (i[1], i[0]) in removable:\n",
        "          true_positive += 1\n",
        "      elif (i[0], i[1]) not in removable and (i[1], i[0]) not in removable:\n",
        "          false_pos += 1\n",
        "    else:\n",
        "      neg.append((i[0],i[1]))\n",
        "      if (i[0], i[1]) in unconnected or (i[1], i[0]) in unconnected:\n",
        "          true_negative += 1\n",
        "      elif (i[0], i[1]) not in unconnected or (i[1], i[0]) not in unconnected:\n",
        "          false_neg += 1\n",
        "\n",
        "\n",
        "  if(true_negative+false_pos!=len(unconnected)):\n",
        "      print('The sum of True Negatives +False Positives is: '+str(true_negative+false_pos)+', while it should be: '+str(len(unconnected)))\n",
        "      return 0, 0 ,0 \n",
        "  else:\n",
        "      \n",
        "      recall_jc = true_positive / (true_positive+false_neg)\n",
        "      precision_jc = true_positive / (true_positive+false_pos)\n",
        "      accuracy_jc = (true_positive+true_negative) / (true_positive+false_neg+true_negative+false_pos)\n",
        "      return recall_jc, precision_jc, accuracy_jc; #uncomment and complete\n",
        "metrics = []\n",
        "\n",
        "metrics = []\n",
        "for threshold in [0.1, 0.15, 0.25, 0.5, 1]:\n",
        "  res = JCfunction(threshold)\n",
        "  metrics.append({\"recall\": res[0],\"precission\": res[1],\"accuracy\": res[2],'threshold': threshold})\n",
        "metrics = pd.DataFrame(metrics)\n",
        "metrics"
      ]
    },
    {
      "cell_type": "code",
      "source": [
        "sns.set_theme()\n",
        "print(\"Metrics of Jaccard Coefficient for different thresholds\")\n",
        "sns.catplot(data=metrics, kind = 'bar', x='threshold', y='recall')\n",
        "sns.catplot(data=metrics, kind = 'bar', x='threshold', y='precission')\n",
        "sns.catplot(data=metrics, kind = 'bar', x='threshold', y='accuracy')\n",
        "plt.tight_layout()\n",
        "plt.show()"
      ],
      "metadata": {
        "colab": {
          "base_uri": "https://localhost:8080/",
          "height": 1000
        },
        "id": "15dbp0Y6lPto",
        "outputId": "4b73fff4-1753-4872-8088-a1fd50fd2213"
      },
      "id": "15dbp0Y6lPto",
      "execution_count": 12,
      "outputs": [
        {
          "output_type": "stream",
          "name": "stdout",
          "text": [
            "Metrics of Jaccard Coefficient for different thresholds\n"
          ]
        },
        {
          "output_type": "display_data",
          "data": {
            "text/plain": [
              "<Figure size 360x360 with 1 Axes>"
            ],
            "image/png": "[encoded data removed]"
          },
          "metadata": {}
        },
        {
          "output_type": "display_data",
          "data": {
            "text/plain": [
              "<Figure size 360x360 with 1 Axes>"
            ],
            "image/png": "[encoded data removed]"
          },
          "metadata": {}
        },
        {
          "output_type": "display_data",
          "data": {
            "text/plain": [
              "<Figure size 360x360 with 1 Axes>"
            ],
            "image/png": "[encoded data removed]"
          },
          "metadata": {}
        }
      ]
    },
    {
      "cell_type": "markdown",
      "source": [
        "Παρατηρούμε πως η τιμή στη μετρική accuracy είναι κοντά στο 1 ανεξάρτητα από την τιμή του threshold. Αυτό συμβαίνει διότι το σύνολο των δεδομένων είναι μη ισορροπημένο καθώς πολλά ζευγάρια κόμβων δεν συνδέονται με κάποια ακμή. Έτσι, οι μετρικές Precision και Recall είναι καλύτερες για την αξιολόγηση του ταξινομητή στην εν λόγω περίπτωση. Καθώς το JC threshold  αυξάνεται, η recall μειώνεται, ενώ η precision και η accuracy αυξάνονται. Αναμενόμενο, αφού υπάρχουν 91671 unconnected pairs (αρνητικά) και μόλις 230 removable ακμές (θετικά) (υψηλότερο όριο σημαίνει λιγότερες θετικές προβλέψεις, και αυτό μπορεί να οδηγήσει σε μικρή μείωση των αληθινών θετικών, αλλά και σε πιο σημαντική μείωση των ψευδώς θετικών, αυξάνοντας έτσι την ακρίβεια). Επίσης, υπάρχει αντίστοιχη αύξηση των ψευδώς αρνητικών με την αύξηση των αληθινών θετικών."
      ],
      "metadata": {
        "id": "jWepympElNPu"
      },
      "id": "jWepympElNPu"
    },
    {
      "cell_type": "markdown",
      "id": "d432396f",
      "metadata": {
        "id": "d432396f"
      },
      "source": [
        "<html><font size=4><B>3. Πρόβλεψη συνδέσμων βάσει similarity-based μετρικών</B></font>    \n",
        "        <li><B>3(i).</B> Προτείνετε μια τουλάχιστον μέθοδο, για να εξερευνήσουμε και να εκφράσουμε μέσα από τα πακέτα NumPy ή SciPy ή Pandas την συσχέτιση (correlation) μεταξύ των τιμών των μετρικών <B>Jaccard Coefficient</B>, <B>Preferential Attachment</B>, <B>Resource Allocation</B> για τον μειωμένο γράφο $G'$. Σημ.: Δεν χρειάζεται κάποια υλοποίηση, μόνο αναφορά της μεθόδου συσχέτισης και επεξήγηση της επιλογής σας.\n",
        "     <li><B>3(ii).</B> Εργαστείτε πάνω σε <B><U>αντίγραφο</U></B> του dataframe που κατασκευάσατε στο ερώτημα 1(vα) (unconnected+removables). Δημιουργήστε στήλη (column) με τις ακμές του γράφου και θέστε την ως index του dataframe. Στο dataframe θα προσθέσετε ως στήλες τις τιμές των μετρικών (<B>Jaccard Coefficient</B>, <B>Preferential Attachment</B>, <B>Resource Allocation</B>) για τον μειωμένο γράφο $G'$. Οι τιμές των μετρικών μπορούν να υπολογιστούν με τις συναρτήσεις του πακέτου NetworkX.</li>   </font></html>\n",
        "    \n",
        "    |       | link  |Jacc.Coeff.|Pr.Attachment| Resource Allocation|\n",
        "    |-------|-------|-----------|-------------|--------------------|\n",
        "    |(1, 6) |  0    |  0.333333 |     32      |    0.700000        |\n",
        "    |(1, 46)|  0    |  0.200000 |      8      |    0.166667        |"
      ]
    },
    {
      "cell_type": "markdown",
      "source": [
        "## **3(i).**\n",
        "Για να βρούμε την συσχέτιση μεταξύ των τιμών των μετρικών Jaccard Coefficient, Preferential Attachment, Resource Allocation, μπορούμε να χρησιμοποιήσουμε την συνάρτηση correlate της numpy. Ως όρισμα δίνουμε τις τιμές που παίρνουν 2 από τις μετρικές σε μονοδιάστατο πίνακα (1 πίνακα για κάθε μετρική). H συνάρτηση αυτή, θεωρώντας την κάθε μια μετρική (JC, PA, RA) ως μια τυχαία μεταβλητή, επιστρέφει το κατά πόσο ένα ζεύγος μετρικών που επιλέξαμε σχετίζεται γραμμικά. Θετική τιμή correlation σημαίνει ότι όταν αυξάνεται η τιμή της μίας τυχαίας μεταβλητής, τείνει να αυξάνεται και η τιμή της άλλης. Αντίθετα, αρνητική τιμή correlation μεταξύ 2 μεταβλητών δείχνει ότι όταν η μια αυξάνεται, η άλλη μειώνεται. (Αντί για την συνάρτηση numpy.correlate, μπορούμε να χρησιμοποιήσουμε και την numpy.cov, με τα ίδια ορίσματα, η οποία επιστρέφει επίσης και την διασπορά των 2 τυχαίων μεταβλητών. Ως αποτέλεσμα δηλαδή παίρνουμε έναν πίνακα Τ(2χ2), όπου τα κελιά Τ(1,2)=Τ(2,1) = correlation των 2 μεταβλητών, ενώ τα κελιά T(1,1) και Τ(2,2) απεικονίζουν την διασπορά των μεταβλητών)"
      ],
      "metadata": {
        "id": "r5LjLtvCqB5T"
      },
      "id": "r5LjLtvCqB5T"
    },
    {
      "cell_type": "code",
      "execution_count": 13,
      "id": "7c40c8d6",
      "metadata": {
        "id": "7c40c8d6"
      },
      "outputs": [],
      "source": [
        "#replicate of the dataframe \"unconnected+removables\"---dataframe will be used again in (4)\n",
        "ure = unconnected_removable_edges.copy()"
      ]
    },
    {
      "cell_type": "code",
      "execution_count": 14,
      "id": "8c65a3e6",
      "metadata": {
        "colab": {
          "base_uri": "https://localhost:8080/",
          "height": 455
        },
        "id": "8c65a3e6",
        "outputId": "83c5353e-94a9-4ba9-be80-04103c35cac0"
      },
      "outputs": [
        {
          "output_type": "execute_result",
          "data": {
            "text/plain": [
              "            link  Jaccad Coefficient  Preferential Attachment  \\\n",
              "edges                                                           \n",
              "(1, 6)         0                 0.0                        1   \n",
              "(1, 7)         0                 0.0                        2   \n",
              "(1, 8)         0                 0.0                        1   \n",
              "(1, 9)         0                 0.0                        7   \n",
              "(1, 10)        0                 0.0                        1   \n",
              "...          ...                 ...                      ...   \n",
              "(401, 403)     1                 0.0                        1   \n",
              "(401, 404)     1                 0.0                        2   \n",
              "(402, 403)     1                 0.0                        1   \n",
              "(402, 404)     1                 0.0                        1   \n",
              "(403, 404)     1                 1.0                        1   \n",
              "\n",
              "            Resource Allocation  \n",
              "edges                            \n",
              "(1, 6)                      0.0  \n",
              "(1, 7)                      0.0  \n",
              "(1, 8)                      0.0  \n",
              "(1, 9)                      0.0  \n",
              "(1, 10)                     0.0  \n",
              "...                         ...  \n",
              "(401, 403)                  0.0  \n",
              "(401, 404)                  0.0  \n",
              "(402, 403)                  0.0  \n",
              "(402, 404)                  0.0  \n",
              "(403, 404)                  0.5  \n",
              "\n",
              "[91900 rows x 4 columns]"
            ],
            "text/html": [
              "\n",
              "  <div id=\"df-bd5d04f7-4f9c-40bc-b7a1-2d157fbc8524\">\n",
              "    <div class=\"colab-df-container\">\n",
              "      <div>\n",
              "<style scoped>\n",
              "    .dataframe tbody tr th:only-of-type {\n",
              "        vertical-align: middle;\n",
              "    }\n",
              "\n",
              "    .dataframe tbody tr th {\n",
              "        vertical-align: top;\n",
              "    }\n",
              "\n",
              "    .dataframe thead th {\n",
              "        text-align: right;\n",
              "    }\n",
              "</style>\n",
              "<table border=\"1\" class=\"dataframe\">\n",
              "  <thead>\n",
              "    <tr style=\"text-align: right;\">\n",
              "      <th></th>\n",
              "      <th>link</th>\n",
              "      <th>Jaccad Coefficient</th>\n",
              "      <th>Preferential Attachment</th>\n",
              "      <th>Resource Allocation</th>\n",
              "    </tr>\n",
              "    <tr>\n",
              "      <th>edges</th>\n",
              "      <th></th>\n",
              "      <th></th>\n",
              "      <th></th>\n",
              "      <th></th>\n",
              "    </tr>\n",
              "  </thead>\n",
              "  <tbody>\n",
              "    <tr>\n",
              "      <th>(1, 6)</th>\n",
              "      <td>0</td>\n",
              "      <td>0.0</td>\n",
              "      <td>1</td>\n",
              "      <td>0.0</td>\n",
              "    </tr>\n",
              "    <tr>\n",
              "      <th>(1, 7)</th>\n",
              "      <td>0</td>\n",
              "      <td>0.0</td>\n",
              "      <td>2</td>\n",
              "      <td>0.0</td>\n",
              "    </tr>\n",
              "    <tr>\n",
              "      <th>(1, 8)</th>\n",
              "      <td>0</td>\n",
              "      <td>0.0</td>\n",
              "      <td>1</td>\n",
              "      <td>0.0</td>\n",
              "    </tr>\n",
              "    <tr>\n",
              "      <th>(1, 9)</th>\n",
              "      <td>0</td>\n",
              "      <td>0.0</td>\n",
              "      <td>7</td>\n",
              "      <td>0.0</td>\n",
              "    </tr>\n",
              "    <tr>\n",
              "      <th>(1, 10)</th>\n",
              "      <td>0</td>\n",
              "      <td>0.0</td>\n",
              "      <td>1</td>\n",
              "      <td>0.0</td>\n",
              "    </tr>\n",
              "    <tr>\n",
              "      <th>...</th>\n",
              "      <td>...</td>\n",
              "      <td>...</td>\n",
              "      <td>...</td>\n",
              "      <td>...</td>\n",
              "    </tr>\n",
              "    <tr>\n",
              "      <th>(401, 403)</th>\n",
              "      <td>1</td>\n",
              "      <td>0.0</td>\n",
              "      <td>1</td>\n",
              "      <td>0.0</td>\n",
              "    </tr>\n",
              "    <tr>\n",
              "      <th>(401, 404)</th>\n",
              "      <td>1</td>\n",
              "      <td>0.0</td>\n",
              "      <td>2</td>\n",
              "      <td>0.0</td>\n",
              "    </tr>\n",
              "    <tr>\n",
              "      <th>(402, 403)</th>\n",
              "      <td>1</td>\n",
              "      <td>0.0</td>\n",
              "      <td>1</td>\n",
              "      <td>0.0</td>\n",
              "    </tr>\n",
              "    <tr>\n",
              "      <th>(402, 404)</th>\n",
              "      <td>1</td>\n",
              "      <td>0.0</td>\n",
              "      <td>1</td>\n",
              "      <td>0.0</td>\n",
              "    </tr>\n",
              "    <tr>\n",
              "      <th>(403, 404)</th>\n",
              "      <td>1</td>\n",
              "      <td>1.0</td>\n",
              "      <td>1</td>\n",
              "      <td>0.5</td>\n",
              "    </tr>\n",
              "  </tbody>\n",
              "</table>\n",
              "<p>91900 rows × 4 columns</p>\n",
              "</div>\n",
              "      <button class=\"colab-df-convert\" onclick=\"convertToInteractive('df-bd5d04f7-4f9c-40bc-b7a1-2d157fbc8524')\"\n",
              "              title=\"Convert this dataframe to an interactive table.\"\n",
              "              style=\"display:none;\">\n",
              "        \n",
              "  <svg xmlns=\"http://www.w3.org/2000/svg\" height=\"24px\"viewBox=\"0 0 24 24\"\n",
              "       width=\"24px\">\n",
              "    <path d=\"M0 0h24v24H0V0z\" fill=\"none\"/>\n",
              "    <path d=\"M18.56 5.44l.94 2.06.94-2.06 2.06-.94-2.06-.94-.94-2.06-.94 2.06-2.06.94zm-11 1L8.5 8.5l.94-2.06 2.06-.94-2.06-.94L8.5 2.5l-.94 2.06-2.06.94zm10 10l.94 2.06.94-2.06 2.06-.94-2.06-.94-.94-2.06-.94 2.06-2.06.94z\"/><path d=\"M17.41 7.96l-1.37-1.37c-.4-.4-.92-.59-1.43-.59-.52 0-1.04.2-1.43.59L10.3 9.45l-7.72 7.72c-.78.78-.78 2.05 0 2.83L4 21.41c.39.39.9.59 1.41.59.51 0 1.02-.2 1.41-.59l7.78-7.78 2.81-2.81c.8-.78.8-2.07 0-2.86zM5.41 20L4 18.59l7.72-7.72 1.47 1.35L5.41 20z\"/>\n",
              "  </svg>\n",
              "      </button>\n",
              "      \n",
              "  <style>\n",
              "    .colab-df-container {\n",
              "      display:flex;\n",
              "      flex-wrap:wrap;\n",
              "      gap: 12px;\n",
              "    }\n",
              "\n",
              "    .colab-df-convert {\n",
              "      background-color: #E8F0FE;\n",
              "      border: none;\n",
              "      border-radius: 50%;\n",
              "      cursor: pointer;\n",
              "      display: none;\n",
              "      fill: #1967D2;\n",
              "      height: 32px;\n",
              "      padding: 0 0 0 0;\n",
              "      width: 32px;\n",
              "    }\n",
              "\n",
              "    .colab-df-convert:hover {\n",
              "      background-color: #E2EBFA;\n",
              "      box-shadow: 0px 1px 2px rgba(60, 64, 67, 0.3), 0px 1px 3px 1px rgba(60, 64, 67, 0.15);\n",
              "      fill: #174EA6;\n",
              "    }\n",
              "\n",
              "    [theme=dark] .colab-df-convert {\n",
              "      background-color: #3B4455;\n",
              "      fill: #D2E3FC;\n",
              "    }\n",
              "\n",
              "    [theme=dark] .colab-df-convert:hover {\n",
              "      background-color: #434B5C;\n",
              "      box-shadow: 0px 1px 3px 1px rgba(0, 0, 0, 0.15);\n",
              "      filter: drop-shadow(0px 1px 2px rgba(0, 0, 0, 0.3));\n",
              "      fill: #FFFFFF;\n",
              "    }\n",
              "  </style>\n",
              "\n",
              "      <script>\n",
              "        const buttonEl =\n",
              "          document.querySelector('#df-bd5d04f7-4f9c-40bc-b7a1-2d157fbc8524 button.colab-df-convert');\n",
              "        buttonEl.style.display =\n",
              "          google.colab.kernel.accessAllowed ? 'block' : 'none';\n",
              "\n",
              "        async function convertToInteractive(key) {\n",
              "          const element = document.querySelector('#df-bd5d04f7-4f9c-40bc-b7a1-2d157fbc8524');\n",
              "          const dataTable =\n",
              "            await google.colab.kernel.invokeFunction('convertToInteractive',\n",
              "                                                     [key], {});\n",
              "          if (!dataTable) return;\n",
              "\n",
              "          const docLinkHtml = 'Like what you see? Visit the ' +\n",
              "            '<a target=\"_blank\" href=https://colab.research.google.com/notebooks/data_table.ipynb>data table notebook</a>'\n",
              "            + ' to learn more about interactive tables.';\n",
              "          element.innerHTML = '';\n",
              "          dataTable['output_type'] = 'display_data';\n",
              "          await google.colab.output.renderOutput(dataTable, element);\n",
              "          const docLink = document.createElement('div');\n",
              "          docLink.innerHTML = docLinkHtml;\n",
              "          element.appendChild(docLink);\n",
              "        }\n",
              "      </script>\n",
              "    </div>\n",
              "  </div>\n",
              "  "
            ]
          },
          "metadata": {},
          "execution_count": 14
        }
      ],
      "source": [
        "#dataframe for similarity-based measurement values\n",
        "ure = ure.set_index('edges')\n",
        "JC = []\n",
        "PA = []\n",
        "RA = []\n",
        "#Jaccard Coefficient\n",
        "JC_list = nx.jaccard_coefficient(G_reduced)\n",
        "for u,v,p in JC_list:\n",
        "    JC.append(p)\n",
        "\n",
        "#Preferential Attachment   \n",
        "PA_list = nx.preferential_attachment(G_reduced)\n",
        "for u,v,p in PA_list:\n",
        "    PA.append(p) \n",
        "        \n",
        "#Resource Allocation\n",
        "RA_list = nx.resource_allocation_index(G_reduced)\n",
        "for u,v,p in RA_list:\n",
        "    RA.append(p)\n",
        "    \n",
        "\n",
        "\n",
        "# add columns\n",
        "ure['Jaccad Coefficient'] = JC\n",
        "ure['Preferential Attachment'] = PA\n",
        "ure['Resource Allocation'] = RA\n",
        "\n",
        "ure\n"
      ]
    },
    {
      "cell_type": "markdown",
      "id": "76f9318d",
      "metadata": {
        "id": "76f9318d"
      },
      "source": [
        "<li><B>3(iiiα).</B> Χρησιμοποιήστε τον Random Forest Classifier και το αντίγραφο dataframe που κατασκευάσατε στο ερώτημα 3(ii), για να προβλέψετε συνδέσεις. Συμπληρώστε στον κώδικα: τα features ($X$), την target variable ($y$) και τα ορίσματα της συνάρτησης $fit$ για το training του μοντέλου.</li>\n",
        "<li><B>3(iiiβ).</B> Δώστε τις ($A.M$ $mod$ $10$) πρώτες προβλέψεις και την ακρίβεια ($accuracy$) του μοντέλου. </li>\n",
        "<li><B>3(iiiγ).</B>Υπολογίστε την πιθανότητα να συνδεθούν οι κόμβοι ($1$,$47$) βάσει του μοντέλου σας. </li>  "
      ]
    },
    {
      "cell_type": "code",
      "execution_count": 15,
      "id": "df4a65f5",
      "metadata": {
        "id": "df4a65f5"
      },
      "outputs": [],
      "source": [
        "#uncomment whole cell\n",
        "from sklearn.model_selection import train_test_split\n",
        "from sklearn.ensemble import RandomForestClassifier\n",
        "from sklearn.metrics import accuracy_score\n",
        "from sklearn.model_selection import GridSearchCV\n",
        "k = 7\n",
        "X = ure[ure.columns.drop('link')] #features, uncomment and complete\n",
        "y = ure['link'] #target, uncomment and complete\n",
        "\n",
        "X_train, X_test, y_train, y_test = train_test_split(X, y , random_state = 0) #uncomment and complete\n",
        "# print(X.shape)\n",
        "# print(y.shape)"
      ]
    },
    {
      "cell_type": "code",
      "execution_count": 16,
      "id": "26affc3a",
      "metadata": {
        "id": "26affc3a"
      },
      "outputs": [],
      "source": [
        "#uncomment whole cell\n",
        "classifier = RandomForestClassifier()   \n",
        "\n",
        "from sklearn.preprocessing import MinMaxScaler \n",
        "mm_scaler = MinMaxScaler() \n",
        "X_train_scaled = mm_scaler.fit_transform(X_train)\n",
        "X_test_scaled = mm_scaler.transform(X_test)\n",
        "\n",
        "parameters = {'n_estimators' : [10,50,100], 'max_depth' : [5,10,15]} \n",
        "model = GridSearchCV(classifier, param_grid = parameters) "
      ]
    },
    {
      "cell_type": "code",
      "execution_count": 17,
      "id": "431e2d35",
      "metadata": {
        "colab": {
          "base_uri": "https://localhost:8080/"
        },
        "id": "431e2d35",
        "outputId": "4b7c6aa4-1ba9-4ccb-fbbe-2b2c2214fd5d"
      },
      "outputs": [
        {
          "output_type": "execute_result",
          "data": {
            "text/plain": [
              "GridSearchCV(estimator=RandomForestClassifier(),\n",
              "             param_grid={'max_depth': [5, 10, 15],\n",
              "                         'n_estimators': [10, 50, 100]})"
            ]
          },
          "metadata": {},
          "execution_count": 17
        }
      ],
      "source": [
        "model.fit(X_train_scaled, y_train )#train the model, uncomment and complete"
      ]
    },
    {
      "cell_type": "code",
      "execution_count": 18,
      "id": "1b075584",
      "metadata": {
        "colab": {
          "base_uri": "https://localhost:8080/"
        },
        "id": "1b075584",
        "outputId": "3f8d7cf1-9b2e-47a8-851a-fee26eaf509d"
      },
      "outputs": [
        {
          "output_type": "stream",
          "name": "stdout",
          "text": [
            "My first 7 predictions are:  [0 0 0 0 0 0 0]\n",
            "The accuracy score of the model is: 0.9976060935799782\n"
          ]
        }
      ],
      "source": [
        "from sklearn.metrics import accuracy_score\n",
        "predictions = model.predict(X_test_scaled)       #uncomment\n",
        "print(\"My first 7 predictions are: \",predictions[:7]) #get (A.M. last digit) first predictions, uncomment and complete\n",
        "print(\"The accuracy score of the model is:\", accuracy_score(y_test, predictions))"
      ]
    },
    {
      "cell_type": "code",
      "execution_count": 19,
      "id": "b042eca7",
      "metadata": {
        "colab": {
          "base_uri": "https://localhost:8080/"
        },
        "id": "b042eca7",
        "outputId": "d6087b51-cbdf-457b-a21a-3ffb91979ca6"
      },
      "outputs": [
        {
          "output_type": "stream",
          "name": "stdout",
          "text": [
            "The propability to have a link between nodes 1 and 47 is  [[0.99789771 0.00210229]]\n"
          ]
        }
      ],
      "source": [
        "# get base of the target edge\n",
        "edge1_47 = X_train.index.get_loc((1,47))\n",
        "# form input to predict_proba\n",
        "reformed = X_train_scaled[edge1_47].reshape(1, -1)\n",
        "# compute predict proba\n",
        "predict_proba = model.predict_proba(reformed)\n",
        "print(\"The propability to have a link between nodes 1 and 47 is \",predict_proba)"
      ]
    },
    {
      "cell_type": "markdown",
      "source": [
        "### Δηλαδή:\n",
        "**Κατά 99.780465 % δεν υπάρχει ακμή**\n",
        "\n",
        "και\n",
        "\n",
        "**Κατά 0.219535% υπάρχει ακμή**"
      ],
      "metadata": {
        "id": "jU9Oz7DD-sne"
      },
      "id": "jU9Oz7DD-sne"
    },
    {
      "cell_type": "markdown",
      "id": "f4c43988",
      "metadata": {
        "id": "f4c43988"
      },
      "source": [
        "<html><font size=4><B>4. Πρόβλεψη συνδέσμων με embedding βασισμένο σε τυχαίους περιπάτους (Random Walks) </B></font><BR><BR>\n",
        "    <li><B>4(i).</B> Εξάγετε τα χαρακτηριστικά (features) του γράφου $G'$, που προέκυψε από την αφαίρεση των ακμών. Για τον σκοπό αυτό χρησιμοποιήστε τον αλγόριθμο <B>Node2vec</B> <a href=\"https://cs.stanford.edu/~jure/pubs/node2vec-kdd16.pdf\">[3]</a>. Ο αλγόριθμος αντιστοιχίζει τους κόμβους του γράφου μέσω τυχαίων περιπάτων (biased 2nd order random walks) σε ένα χώρο μικρού αριθμού διαστάσεων (low dimensional space) διατηρώντας την μεταξύ τους γειτνίαση.\n",
        "        <BR>Για την επιλογή των παραμέτρων: \n",
        "            <li>p - παράμετρος τυχαίων περιπάτων p που καθορίζει την πιθανότητα “1/p” επιστροφής στον κόμβο προέλευσης (source node), </li>\n",
        "                <li>q - παράμετρος τυχαίων περιπάτων q που καθορίζει την πιθανότητα  “1/q” μετακίνησης σε κόμβο μακριά από τον κόμβο προέλευσης (source node), </li>\n",
        "                 <li>dimensions - πλήθος διαστάσεων των Node2Vec embeddings, </li>\n",
        "                     <li>num_walks - αριθμός περιπάτων από κάθε κόμβο, </li>\n",
        "                         <li>walk_length - μήκος τυχαίου περιπάτου, </li>\n",
        "                             <li>window_size - μέγεθος παραθύρου context για τον αλγόριθμο Word2Vec, </li><li>num_iter - αριθμός SGD επαναλήψεων (epochs), </li>\n",
        "            <li>workers - αριθμός workers για τον Word2Vec,</li>\n",
        "            χρησιμοποιήστε τις τιμές:   </html>\n",
        "   \n",
        "                   "
      ]
    },
    {
      "cell_type": "markdown",
      "id": "fdbc5274",
      "metadata": {
        "id": "fdbc5274"
      },
      "source": [
        " |   p   |   q   | dimensions|  num_walks  |walk_length |window_size|        workers            |\n",
        " |-------|-------|-----------|-------------|------------|-----------|---------------------------|\n",
        " |  1.0  |  1.0  |  128      |     10      |    80      |     10    |multiprocessing.cpu_count()|"
      ]
    },
    {
      "cell_type": "code",
      "execution_count": 26,
      "id": "aa8e668d",
      "metadata": {
        "colab": {
          "base_uri": "https://localhost:8080/",
          "height": 49,
          "referenced_widgets": [
            "37aaf52ca81946d6b697634fab0dc75d",
            "9f98f0d1688345329d328f010a738af0",
            "33a2ab1b50204fe989552ed4197ea5bb",
            "a4c65725079c432a9d2a61e536b2d334",
            "08f879f9c7a5467a82b46a9a029cade3",
            "20d4b30830ca4949908de7d05ccdee67",
            "af73bbd4adf84c20bdb7636b56b57478",
            "f87c193f0603476fa5877f6057a60422",
            "b8c98b5ad2c848429e80c66c65e6c2d1",
            "291f9dbffe774129830037b8495cc1a9",
            "dbcae8c5775d48b798bc4f8ae819ae4d"
          ]
        },
        "id": "aa8e668d",
        "outputId": "92ac2f13-718c-4dac-9ef8-a8690557e99a"
      },
      "outputs": [
        {
          "output_type": "display_data",
          "data": {
            "text/plain": [
              "Computing transition probabilities:   0%|          | 0/430 [00:00<?, ?it/s]"
            ],
            "application/vnd.jupyter.widget-view+json": {
              "version_major": 2,
              "version_minor": 0,
              "model_id": "37aaf52ca81946d6b697634fab0dc75d"
            }
          },
          "metadata": {}
        }
      ],
      "source": [
        "# from node2vec import Node2Vec   #uncomment\n",
        "import multiprocessing          #uncomment\n",
        "#εβαλα τα imports πανω\n",
        "\n",
        "#generate walks\n",
        "node2vec_walker = Node2Vec(G_reduced, p=1.0, q=1.0, dimensions=128, num_walks=10, walk_length=80, workers=multiprocessing.cpu_count() ) #uncomment and complete\n",
        "\n",
        "#train node2vec model\n",
        "n2v_model = node2vec_walker.fit(window = 10, min_count=1) #uncomment and complete"
      ]
    },
    {
      "cell_type": "markdown",
      "id": "294f0aab",
      "metadata": {
        "id": "294f0aab"
      },
      "source": [
        "<html><font>\n",
        "    <li><B>4(ii).</B> Εφαρμόστε τον αλγόριθμο Random Forest Classifier, για να προβλέψετε τις συνδέσεις.</li><BR>\n",
        "    <li><B>4(iii).</B> Υπολογίστε την ακρίβεια ($accuracy$) του μοντέλου. </li><BR></font></html>"
      ]
    },
    {
      "cell_type": "code",
      "execution_count": 27,
      "id": "6269b89a",
      "metadata": {
        "id": "6269b89a"
      },
      "outputs": [],
      "source": [
        "#apply trained Node2Vec model on each node pair of the dataframe \"unconnected+removables\"\n",
        "#uncomment:\n",
        "#4(ii).\n",
        "x = [(n2v_model.wv[str(i)] + n2v_model.wv[str(j)])for i, j in unconnected_removable_edges['edges']] # το ειχα ηδη ως edges"
      ]
    },
    {
      "cell_type": "code",
      "execution_count": 28,
      "id": "b74e7aa7",
      "metadata": {
        "id": "b74e7aa7"
      },
      "outputs": [],
      "source": [
        "X_train, X_test, y_train, y_test = train_test_split(x, unconnected_removable_edges['link'], random_state=0)  #uncomment and complete"
      ]
    },
    {
      "cell_type": "code",
      "execution_count": 30,
      "id": "e75cfde7",
      "metadata": {
        "colab": {
          "base_uri": "https://localhost:8080/"
        },
        "id": "e75cfde7",
        "outputId": "ea65905f-da7c-48d8-ec31-9dd2b83a91d7"
      },
      "outputs": [
        {
          "output_type": "execute_result",
          "data": {
            "text/plain": [
              "RandomForestClassifier(max_depth=2, random_state=0)"
            ]
          },
          "metadata": {},
          "execution_count": 30
        }
      ],
      "source": [
        "#uncomment whole cell\n",
        "from sklearn.ensemble import RandomForestClassifier\n",
        "from sklearn.metrics import accuracy_score\n",
        "\n",
        "classifier = RandomForestClassifier(max_depth=2, random_state=0) \n",
        "classifier.fit(X_train, y_train)   #uncomment and complete"
      ]
    },
    {
      "cell_type": "code",
      "source": [
        "#4(iii).\n",
        "predictions = classifier.predict(X_test)\n",
        "print('The accuracy score of the model is:', accuracy_score(y_test, predictions))"
      ],
      "metadata": {
        "colab": {
          "base_uri": "https://localhost:8080/"
        },
        "id": "A9LXNcKm8o2g",
        "outputId": "55f3ba1d-c2b0-4a40-87c4-6ffb802671a5"
      },
      "id": "A9LXNcKm8o2g",
      "execution_count": 31,
      "outputs": [
        {
          "output_type": "stream",
          "name": "stdout",
          "text": [
            "The accuracy score of the model is: 0.9987377584330794\n"
          ]
        }
      ]
    },
    {
      "cell_type": "markdown",
      "id": "a0c0b3bb",
      "metadata": {
        "id": "a0c0b3bb"
      },
      "source": [
        "<html><font size=4> <B><U>Ερώτηση bonus (+10/100)</U><B>: </font>Για τους binary operators για learning των edge features με τον αλγόριθμο Node2Vec που αναφέρονται στο <a href=\"https://cs.stanford.edu/~jure/pubs/node2vec-kdd16.pdf\">[3]</a> ((α) Average, (β) Hadamard, (γ) Weighted-L1 και (δ) Weighted-L2) τροποποιήστε τoν κώδικά σας και σημειώστε τις παρατηρήσεις σας ως προς την απόδοση του αλγορίθμου.</font></html>"
      ]
    },
    {
      "cell_type": "markdown",
      "id": "8da3a402",
      "metadata": {
        "id": "8da3a402"
      },
      "source": [
        "<html><font size=4><B><U>Βιβλιογραφία:</U></B><BR></font>\n",
        "<a href=\"https://dl.acm.org/doi/10.1145/2487788.2488173\">[1]\tJérôme Kunegis. KONECT – The Koblenz Network Collection. In Proc. Int. Conf. on World Wide Web Companion, pages 1343–1350, 2013.</a><BR>\n",
        "<a href=\"https://link.springer.com/chapter/10.1007/978-3-540-76298-0_52\">[2]\tSören Auer, Christian Bizer, Georgi Kobilarov, Jens Lehmann, Richard Cyganiak, and Zachary Ives. DBpedia: A nucleus for a web of open data. In Proc. Int. Semant. Web Conf., pages 722–735, 2008.<BR>\n",
        "<a href=\"https://cs.stanford.edu/~jure/pubs/node2vec-kdd16.pdf\">[3] A. Grover, J. Leskovec, Node2vec: Scalable Feature Learning for Networks. ACM KDD, 2016.</a><BR>\n",
        " <a href=\"https://proceedings.neurips.cc/paper/2013/file/9aa42b31882ec039965f3c4923ce901b-Paper.pdf\">[4] T.Mikolov, I.Sutskever, K.Chen, G.S.Corrado and J.Dean, Distributed representations of words and phrases and their compositionality. In NIPS, 2013.</a><BR></font></html>"
      ]
    },
    {
      "cell_type": "code",
      "execution_count": 41,
      "id": "89f16b76",
      "metadata": {
        "colab": {
          "base_uri": "https://localhost:8080/"
        },
        "id": "89f16b76",
        "outputId": "53f2ae6f-a2c8-4c04-e89e-cef30c88a4ab"
      },
      "outputs": [
        {
          "output_type": "stream",
          "name": "stdout",
          "text": [
            "For  AverageEmbedder we have accuracy score =  0.9987377584330794\n",
            "For  HadamardEmbedder we have accuracy score =  0.9986942328618064\n",
            "For  WeightedL1Embedder we have accuracy score =  0.9976060935799782\n",
            "For  WeightedL2Embedder we have accuracy score =  0.9976060935799782\n"
          ]
        }
      ],
      "source": [
        "from node2vec.edges import (AverageEmbedder, HadamardEmbedder, WeightedL1Embedder, WeightedL2Embedder)\n",
        "def bonus(Embedder):\n",
        "    edges_embs = Embedder(keyed_vectors=n2v_model.wv)\n",
        "    x = [edges_embs[(str(i), str(j))]for i, j in unconnected_removable_edges['edges']]\n",
        "\n",
        "    X_train, X_test, y_train, y_test = train_test_split(x, unconnected_removable_edges['link'], random_state=0)\n",
        "    classifier = RandomForestClassifier(max_depth=2, random_state=0)\n",
        "    classifier.fit(X_train, y_train)\n",
        "    predictions = classifier.predict(X_test)\n",
        "\n",
        "    return accuracy_score(y_test, predictions)\n",
        "headers = [\"Binary Operator\", \"Accuracy\"]\n",
        "embeders = [AverageEmbedder, HadamardEmbedder, WeightedL1Embedder, WeightedL2Embedder]\n",
        "embeder_names = ['AverageEmbedder', 'HadamardEmbedder', 'WeightedL1Embedder', 'WeightedL2Embedder']\n",
        "for i in range(0,len(embeders)):\n",
        "  print(\"For \", embeder_names[i], \"we have accuracy score = \", bonus(embeders[i]))"
      ]
    },
    {
      "cell_type": "markdown",
      "source": [
        "## Παρατηρήσεις:\n",
        "'Ολα τα μοντέλα που εκπαιδεύσαμε έχουν accuracy >99%. H διαφορά τους βρίσκεται στο 3ο ή 4ο δεκαδικό ψηφίο και μετά. Συγκεκριμένα το αρχικό μοντέλο W2V και τα μοντέλα με τους embedders Average και Hadamard εχουν accuracy 99.8% ενώ τα υπόλοιπα, Weighted L1, L2 έχουν accuracy 99.7% (ουσιαστικά το ίδιο, αμεληταία η διαφορά). Από τα παραπάνω θα επιλέγαμε το απλό μοντέλο W2V αφού είναι το πιο εύκολο και γρήγορα να υλοποιηθεί προγραμματιστικά και πιο γρήγορο στο runtime αφού δεν καλεί περιττές βιβλιοθήκες και εντολές."
      ],
      "metadata": {
        "id": "P5eqxGsESXdP"
      },
      "id": "P5eqxGsESXdP"
    }
  ],
  "metadata": {
    "kernelspec": {
      "display_name": "Python 3",
      "language": "python",
      "name": "python3"
    },
    "language_info": {
      "codemirror_mode": {
        "name": "ipython",
        "version": 3
      },
      "file_extension": ".py",
      "mimetype": "text/x-python",
      "name": "python",
      "nbconvert_exporter": "python",
      "pygments_lexer": "ipython3",
      "version": "3.8.8"
    },
    "colab": {
      "provenance": []
    },
    "widgets": {
      "application/vnd.jupyter.widget-state+json": {
        "37aaf52ca81946d6b697634fab0dc75d": {
          "model_module": "@jupyter-widgets/controls",
          "model_name": "HBoxModel",
          "model_module_version": "1.5.0",
          "state": {
            "_dom_classes": [],
            "_model_module": "@jupyter-widgets/controls",
            "_model_module_version": "1.5.0",
            "_model_name": "HBoxModel",
            "_view_count": null,
            "_view_module": "@jupyter-widgets/controls",
            "_view_module_version": "1.5.0",
            "_view_name": "HBoxView",
            "box_style": "",
            "children": [
              "IPY_MODEL_9f98f0d1688345329d328f010a738af0",
              "IPY_MODEL_33a2ab1b50204fe989552ed4197ea5bb",
              "IPY_MODEL_a4c65725079c432a9d2a61e536b2d334"
            ],
            "layout": "IPY_MODEL_08f879f9c7a5467a82b46a9a029cade3"
          }
        },
        "9f98f0d1688345329d328f010a738af0": {
          "model_module": "@jupyter-widgets/controls",
          "model_name": "HTMLModel",
          "model_module_version": "1.5.0",
          "state": {
            "_dom_classes": [],
            "_model_module": "@jupyter-widgets/controls",
            "_model_module_version": "1.5.0",
            "_model_name": "HTMLModel",
            "_view_count": null,
            "_view_module": "@jupyter-widgets/controls",
            "_view_module_version": "1.5.0",
            "_view_name": "HTMLView",
            "description": "",
            "description_tooltip": null,
            "layout": "IPY_MODEL_20d4b30830ca4949908de7d05ccdee67",
            "placeholder": "​",
            "style": "IPY_MODEL_af73bbd4adf84c20bdb7636b56b57478",
            "value": "Computing transition probabilities: 100%"
          }
        },
        "33a2ab1b50204fe989552ed4197ea5bb": {
          "model_module": "@jupyter-widgets/controls",
          "model_name": "FloatProgressModel",
          "model_module_version": "1.5.0",
          "state": {
            "_dom_classes": [],
            "_model_module": "@jupyter-widgets/controls",
            "_model_module_version": "1.5.0",
            "_model_name": "FloatProgressModel",
            "_view_count": null,
            "_view_module": "@jupyter-widgets/controls",
            "_view_module_version": "1.5.0",
            "_view_name": "ProgressView",
            "bar_style": "success",
            "description": "",
            "description_tooltip": null,
            "layout": "IPY_MODEL_f87c193f0603476fa5877f6057a60422",
            "max": 430,
            "min": 0,
            "orientation": "horizontal",
            "style": "IPY_MODEL_b8c98b5ad2c848429e80c66c65e6c2d1",
            "value": 430
          }
        },
        "a4c65725079c432a9d2a61e536b2d334": {
          "model_module": "@jupyter-widgets/controls",
          "model_name": "HTMLModel",
          "model_module_version": "1.5.0",
          "state": {
            "_dom_classes": [],
            "_model_module": "@jupyter-widgets/controls",
            "_model_module_version": "1.5.0",
            "_model_name": "HTMLModel",
            "_view_count": null,
            "_view_module": "@jupyter-widgets/controls",
            "_view_module_version": "1.5.0",
            "_view_name": "HTMLView",
            "description": "",
            "description_tooltip": null,
            "layout": "IPY_MODEL_291f9dbffe774129830037b8495cc1a9",
            "placeholder": "​",
            "style": "IPY_MODEL_dbcae8c5775d48b798bc4f8ae819ae4d",
            "value": " 430/430 [00:00&lt;00:00, 5770.86it/s]"
          }
        },
        "08f879f9c7a5467a82b46a9a029cade3": {
          "model_module": "@jupyter-widgets/base",
          "model_name": "LayoutModel",
          "model_module_version": "1.2.0",
          "state": {
            "_model_module": "@jupyter-widgets/base",
            "_model_module_version": "1.2.0",
            "_model_name": "LayoutModel",
            "_view_count": null,
            "_view_module": "@jupyter-widgets/base",
            "_view_module_version": "1.2.0",
            "_view_name": "LayoutView",
            "align_content": null,
            "align_items": null,
            "align_self": null,
            "border": null,
            "bottom": null,
            "display": null,
            "flex": null,
            "flex_flow": null,
            "grid_area": null,
            "grid_auto_columns": null,
            "grid_auto_flow": null,
            "grid_auto_rows": null,
            "grid_column": null,
            "grid_gap": null,
            "grid_row": null,
            "grid_template_areas": null,
            "grid_template_columns": null,
            "grid_template_rows": null,
            "height": null,
            "justify_content": null,
            "justify_items": null,
            "left": null,
            "margin": null,
            "max_height": null,
            "max_width": null,
            "min_height": null,
            "min_width": null,
            "object_fit": null,
            "object_position": null,
            "order": null,
            "overflow": null,
            "overflow_x": null,
            "overflow_y": null,
            "padding": null,
            "right": null,
            "top": null,
            "visibility": null,
            "width": null
          }
        },
        "20d4b30830ca4949908de7d05ccdee67": {
          "model_module": "@jupyter-widgets/base",
          "model_name": "LayoutModel",
          "model_module_version": "1.2.0",
          "state": {
            "_model_module": "@jupyter-widgets/base",
            "_model_module_version": "1.2.0",
            "_model_name": "LayoutModel",
            "_view_count": null,
            "_view_module": "@jupyter-widgets/base",
            "_view_module_version": "1.2.0",
            "_view_name": "LayoutView",
            "align_content": null,
            "align_items": null,
            "align_self": null,
            "border": null,
            "bottom": null,
            "display": null,
            "flex": null,
            "flex_flow": null,
            "grid_area": null,
            "grid_auto_columns": null,
            "grid_auto_flow": null,
            "grid_auto_rows": null,
            "grid_column": null,
            "grid_gap": null,
            "grid_row": null,
            "grid_template_areas": null,
            "grid_template_columns": null,
            "grid_template_rows": null,
            "height": null,
            "justify_content": null,
            "justify_items": null,
            "left": null,
            "margin": null,
            "max_height": null,
            "max_width": null,
            "min_height": null,
            "min_width": null,
            "object_fit": null,
            "object_position": null,
            "order": null,
            "overflow": null,
            "overflow_x": null,
            "overflow_y": null,
            "padding": null,
            "right": null,
            "top": null,
            "visibility": null,
            "width": null
          }
        },
        "af73bbd4adf84c20bdb7636b56b57478": {
          "model_module": "@jupyter-widgets/controls",
          "model_name": "DescriptionStyleModel",
          "model_module_version": "1.5.0",
          "state": {
            "_model_module": "@jupyter-widgets/controls",
            "_model_module_version": "1.5.0",
            "_model_name": "DescriptionStyleModel",
            "_view_count": null,
            "_view_module": "@jupyter-widgets/base",
            "_view_module_version": "1.2.0",
            "_view_name": "StyleView",
            "description_width": ""
          }
        },
        "f87c193f0603476fa5877f6057a60422": {
          "model_module": "@jupyter-widgets/base",
          "model_name": "LayoutModel",
          "model_module_version": "1.2.0",
          "state": {
            "_model_module": "@jupyter-widgets/base",
            "_model_module_version": "1.2.0",
            "_model_name": "LayoutModel",
            "_view_count": null,
            "_view_module": "@jupyter-widgets/base",
            "_view_module_version": "1.2.0",
            "_view_name": "LayoutView",
            "align_content": null,
            "align_items": null,
            "align_self": null,
            "border": null,
            "bottom": null,
            "display": null,
            "flex": null,
            "flex_flow": null,
            "grid_area": null,
            "grid_auto_columns": null,
            "grid_auto_flow": null,
            "grid_auto_rows": null,
            "grid_column": null,
            "grid_gap": null,
            "grid_row": null,
            "grid_template_areas": null,
            "grid_template_columns": null,
            "grid_template_rows": null,
            "height": null,
            "justify_content": null,
            "justify_items": null,
            "left": null,
            "margin": null,
            "max_height": null,
            "max_width": null,
            "min_height": null,
            "min_width": null,
            "object_fit": null,
            "object_position": null,
            "order": null,
            "overflow": null,
            "overflow_x": null,
            "overflow_y": null,
            "padding": null,
            "right": null,
            "top": null,
            "visibility": null,
            "width": null
          }
        },
        "b8c98b5ad2c848429e80c66c65e6c2d1": {
          "model_module": "@jupyter-widgets/controls",
          "model_name": "ProgressStyleModel",
          "model_module_version": "1.5.0",
          "state": {
            "_model_module": "@jupyter-widgets/controls",
            "_model_module_version": "1.5.0",
            "_model_name": "ProgressStyleModel",
            "_view_count": null,
            "_view_module": "@jupyter-widgets/base",
            "_view_module_version": "1.2.0",
            "_view_name": "StyleView",
            "bar_color": null,
            "description_width": ""
          }
        },
        "291f9dbffe774129830037b8495cc1a9": {
          "model_module": "@jupyter-widgets/base",
          "model_name": "LayoutModel",
          "model_module_version": "1.2.0",
          "state": {
            "_model_module": "@jupyter-widgets/base",
            "_model_module_version": "1.2.0",
            "_model_name": "LayoutModel",
            "_view_count": null,
            "_view_module": "@jupyter-widgets/base",
            "_view_module_version": "1.2.0",
            "_view_name": "LayoutView",
            "align_content": null,
            "align_items": null,
            "align_self": null,
            "border": null,
            "bottom": null,
            "display": null,
            "flex": null,
            "flex_flow": null,
            "grid_area": null,
            "grid_auto_columns": null,
            "grid_auto_flow": null,
            "grid_auto_rows": null,
            "grid_column": null,
            "grid_gap": null,
            "grid_row": null,
            "grid_template_areas": null,
            "grid_template_columns": null,
            "grid_template_rows": null,
            "height": null,
            "justify_content": null,
            "justify_items": null,
            "left": null,
            "margin": null,
            "max_height": null,
            "max_width": null,
            "min_height": null,
            "min_width": null,
            "object_fit": null,
            "object_position": null,
            "order": null,
            "overflow": null,
            "overflow_x": null,
            "overflow_y": null,
            "padding": null,
            "right": null,
            "top": null,
            "visibility": null,
            "width": null
          }
        },
        "dbcae8c5775d48b798bc4f8ae819ae4d": {
          "model_module": "@jupyter-widgets/controls",
          "model_name": "DescriptionStyleModel",
          "model_module_version": "1.5.0",
          "state": {
            "_model_module": "@jupyter-widgets/controls",
            "_model_module_version": "1.5.0",
            "_model_name": "DescriptionStyleModel",
            "_view_count": null,
            "_view_module": "@jupyter-widgets/base",
            "_view_module_version": "1.2.0",
            "_view_name": "StyleView",
            "description_width": ""
          }
        }
      }
    }
  },
  "nbformat": 4,
  "nbformat_minor": 5
}